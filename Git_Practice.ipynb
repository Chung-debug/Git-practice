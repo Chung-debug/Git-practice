{
 "cells": [
  {
   "cell_type": "code",
   "execution_count": 1,
   "id": "bab14b98-44d2-4ff0-b169-5ca8d17ae679",
   "metadata": {},
   "outputs": [],
   "source": [
    "name = 'Chung'"
   ]
  },
  {
   "cell_type": "code",
   "execution_count": 2,
   "id": "d5083964-b612-451b-93a4-83990a649278",
   "metadata": {},
   "outputs": [
    {
     "name": "stdout",
     "output_type": "stream",
     "text": [
      "Chung\n"
     ]
    }
   ],
   "source": [
    "print(name)"
   ]
  },
  {
   "cell_type": "code",
   "execution_count": 4,
   "id": "6cf82390-d494-4dc9-a004-f95b56b9ed6d",
   "metadata": {},
   "outputs": [
    {
     "name": "stdout",
     "output_type": "stream",
     "text": [
      "my name is Chung\n"
     ]
    }
   ],
   "source": [
    "print(f'my name is {name}')"
   ]
  },
  {
   "cell_type": "code",
   "execution_count": 6,
   "id": "43b2a33a-7c08-49ba-96be-f985aa06ff3a",
   "metadata": {},
   "outputs": [
    {
     "name": "stdout",
     "output_type": "stream",
     "text": [
      "hello world\n"
     ]
    }
   ],
   "source": [
    "print('hello world')"
   ]
  },
  {
   "cell_type": "code",
   "execution_count": null,
   "id": "915a7d3e-c9a7-4718-8b47-05c74f1ae261",
   "metadata": {},
   "outputs": [],
   "source": []
  }
 ],
 "metadata": {
  "kernelspec": {
   "display_name": "Python 3 (ipykernel)",
   "language": "python",
   "name": "python3"
  },
  "language_info": {
   "codemirror_mode": {
    "name": "ipython",
    "version": 3
   },
   "file_extension": ".py",
   "mimetype": "text/x-python",
   "name": "python",
   "nbconvert_exporter": "python",
   "pygments_lexer": "ipython3",
   "version": "3.12.4"
  }
my_var = ' what should I put in here?
 },
 "nbformat": 4,
 "nbformat_minor": 5
print(my_var)

}
